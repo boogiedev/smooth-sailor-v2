{
 "cells": [
  {
   "cell_type": "code",
   "execution_count": 1,
   "metadata": {},
   "outputs": [],
   "source": [
    "# Auto Reload\n",
    "%load_ext autoreload\n",
    "%autoreload 2"
   ]
  },
  {
   "cell_type": "code",
   "execution_count": 2,
   "metadata": {},
   "outputs": [],
   "source": [
    "# Import Modules\n",
    "from src.scraping_funcs import *"
   ]
  },
  {
   "cell_type": "markdown",
   "metadata": {},
   "source": [
    "# Exploration Notebook\n",
    "\n",
    "> A place to explore, document, and find data"
   ]
  },
  {
   "cell_type": "code",
   "execution_count": 3,
   "metadata": {},
   "outputs": [],
   "source": [
    "# res = get_product_links('moisturizer-skincare', 1)"
   ]
  },
  {
   "cell_type": "code",
   "execution_count": 21,
   "metadata": {},
   "outputs": [],
   "source": [
    "async def get_product_links(category:str='moisturizer-skincare', page_num:int=1, return_str:bool=True) -> dict:\n",
    "    '''Given a category for a product catalog, function will collect relavent links for each product. Designed specifically for use on sephora.com. Will return response object return_str set to False'''\n",
    "    # Construct link\n",
    "    base_link = f'https://www.sephora.com/shop/{category}'    \n",
    "    cur_page = f'?currentPage={page_num}' if page_num > 1 else ''\n",
    "    full_link = f'{base_link}{cur_page}'\n",
    "    # Start Session\n",
    "    asession = reqHTML.AsyncHTMLSession()\n",
    "    # Request Page\n",
    "    r = await asession.get(test_link)\n",
    "    await r.html.arender()\n",
    "    \n",
    "    return r.html.raw_html"
   ]
  },
  {
   "cell_type": "code",
   "execution_count": 42,
   "metadata": {},
   "outputs": [],
   "source": [
    "async def get_page_raw(page_link:str='') -> str:\n",
    "    '''Given the URL of a JS rendered webpage, function will return the raw html from page in bytes format'''\n",
    "    res = None\n",
    "    # Check link\n",
    "    if page_link:\n",
    "        # Start Session\n",
    "        asession = reqHTML.AsyncHTMLSession()\n",
    "        # Request Page\n",
    "        r = await asession.get(test_link)\n",
    "        await r.html.arender()\n",
    "        res = r.html.raw_html\n",
    "    return res"
   ]
  },
  {
   "cell_type": "code",
   "execution_count": 22,
   "metadata": {},
   "outputs": [],
   "source": [
    "x = await get_product_links()"
   ]
  },
  {
   "cell_type": "code",
   "execution_count": 34,
   "metadata": {},
   "outputs": [],
   "source": [
    "doc = html.fromstring(x)"
   ]
  },
  {
   "cell_type": "code",
   "execution_count": 38,
   "metadata": {},
   "outputs": [],
   "source": [
    "txt = doc.xpath('/html/body/div[1]/div[2]/div/div/div/div[2]/div[1]/main/div[3]/div/div[3]/div[2]/nav/ul/li[6]/button')[0]"
   ]
  },
  {
   "cell_type": "code",
   "execution_count": 39,
   "metadata": {},
   "outputs": [
    {
     "data": {
      "text/plain": [
       "'9'"
      ]
     },
     "execution_count": 39,
     "metadata": {},
     "output_type": "execute_result"
    }
   ],
   "source": [
    "txt.text"
   ]
  },
  {
   "cell_type": "code",
   "execution_count": null,
   "metadata": {},
   "outputs": [],
   "source": []
  }
 ],
 "metadata": {
  "kernelspec": {
   "display_name": "Python 3",
   "language": "python",
   "name": "python3"
  },
  "language_info": {
   "codemirror_mode": {
    "name": "ipython",
    "version": 3
   },
   "file_extension": ".py",
   "mimetype": "text/x-python",
   "name": "python",
   "nbconvert_exporter": "python",
   "pygments_lexer": "ipython3",
   "version": "3.7.6"
  }
 },
 "nbformat": 4,
 "nbformat_minor": 4
}
