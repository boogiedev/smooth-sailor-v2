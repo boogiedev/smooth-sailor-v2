{
 "cells": [
  {
   "cell_type": "code",
   "execution_count": 1,
   "metadata": {},
   "outputs": [],
   "source": [
    "# Auto Reload\n",
    "%load_ext autoreload\n",
    "%autoreload 2"
   ]
  },
  {
   "cell_type": "code",
   "execution_count": 2,
   "metadata": {},
   "outputs": [],
   "source": [
    "# Import Modules\n",
    "from src.scraping_funcs import *"
   ]
  },
  {
   "cell_type": "markdown",
   "metadata": {},
   "source": [
    "# Exploration Notebook\n",
    "\n",
    "> A place to explore, document, and find data"
   ]
  },
  {
   "cell_type": "code",
   "execution_count": null,
   "metadata": {},
   "outputs": [
    {
     "name": "stdout",
     "output_type": "stream",
     "text": [
      "Page 1, Num Products: 60\n",
      "{'brandName': 'First Aid Beauty', 'currentSku': {'badgeAltText': 'Clean at Sephora', 'imageAltText': 'First Aid Beauty - Ultra Repair® Cream Intense Hydration', 'isAppExclusive': False, 'isBI': False, 'isBest': False, 'isFirstAccess': False, 'isLimitedEdition': False, 'isLimitedTimeOffer': False, 'isNatural': False, 'isNew': False, 'isOnlineOnly': False, 'isOrganic': False, 'isSephoraExclusive': False, 'listPrice': '$16.00 - $36.00', 'salePrice': '', 'skuId': '1309590', 'skuImages': {'image135': '/productimages/sku/s1309590-main-grid.jpg?pb=2020-03-sephora-clean-2019', 'image162': '/productimages/sku/s1309590-162.jpg?pb=2020-03-sephora-clean-2019', 'image250': '/productimages/sku/s1309590-main-hero.jpg?pb=2020-03-sephora-clean-2019', 'image42': '/productimages/sku/s1309590-main-thumb.jpg?pb=2020-03-sephora-clean-2019', 'image450': '/productimages/sku/s1309590-main-Lhero.jpg?pb=2020-03-sephora-clean-2019', 'image62': '/productimages/sku/s1309590-main-Lthumb.jpg?pb=2020-03-sephora-clean-2019', 'image97': '/productimages/sku/s1309590-main-Sgrid.jpg?pb=2020-03-sephora-clean-2019'}, 'skuType': 'Standard'}, 'displayName': 'Ultra Repair® Cream Intense Hydration', 'heroImage': '/productimages/sku/s1309590-main-grid.jpg?pb=2020-03-sephora-clean-2019', 'heroImageAltText': 'Allure Best of Beauty Seal', 'image135': '/productimages/sku/s1309590-main-grid.jpg?pb=2020-03-sephora-clean-2019', 'image250': '/productimages/sku/s1309590-main-hero.jpg?pb=2020-03-sephora-clean-2019', 'image450': '/productimages/sku/s1309590-main-Lhero.jpg?pb=2020-03-sephora-clean-2019', 'productId': 'P248407', 'productName': 'Ultra Repair® Cream Intense Hydration', 'rating': '4.5601', 'reviews': '7013', 'targetUrl': '/product/ultra-repair-cream-intense-hydration-P248407', 'url': 'http://10.105.209.136:80/v1/catalog/products/P248407?preferedSku=1309590'}\n",
      "Page 2, Num Products: 60\n",
      "{'brandName': 'Caudalie', 'currentSku': {'badgeAltText': 'Clean at Sephora', 'imageAltText': 'Caudalie - Resveratrol Lift Firming Cashmere Moisturizer', 'isAppExclusive': False, 'isBI': False, 'isBest': False, 'isFirstAccess': False, 'isLimitedEdition': False, 'isLimitedTimeOffer': False, 'isNatural': False, 'isNew': True, 'isOnlineOnly': False, 'isOrganic': False, 'isSephoraExclusive': False, 'listPrice': '$65.00', 'salePrice': '', 'skuId': '2421089', 'skuImages': {'image135': '/productimages/sku/s2421089-main-grid.jpg?pb=2020-03-sephora-clean-2019', 'image162': '/productimages/sku/s2421089-162.jpg?pb=2020-03-sephora-clean-2019', 'image250': '/productimages/sku/s2421089-main-hero.jpg?pb=2020-03-sephora-clean-2019', 'image42': '/productimages/sku/s2421089-main-thumb.jpg?pb=2020-03-sephora-clean-2019', 'image450': '/productimages/sku/s2421089-main-Lhero.jpg?pb=2020-03-sephora-clean-2019', 'image62': '/productimages/sku/s2421089-main-Lthumb.jpg?pb=2020-03-sephora-clean-2019', 'image97': '/productimages/sku/s2421089-main-Sgrid.jpg?pb=2020-03-sephora-clean-2019'}, 'skuType': 'Standard'}, 'displayName': 'Resveratrol Lift Firming Cashmere Moisturizer', 'heroImage': '/productimages/sku/s2421089-main-grid.jpg?pb=2020-03-sephora-clean-2019', 'image135': '/productimages/sku/s2421089-main-grid.jpg?pb=2020-03-sephora-clean-2019', 'image250': '/productimages/sku/s2421089-main-hero.jpg?pb=2020-03-sephora-clean-2019', 'image450': '/productimages/sku/s2421089-main-Lhero.jpg?pb=2020-03-sephora-clean-2019', 'productId': 'P467750', 'productName': 'Resveratrol Lift Firming Cashmere Moisturizer', 'rating': '4.6923', 'reviews': '26', 'targetUrl': '/product/caudalie-resveratrol-lift-firming-cashmere-moisturizer-P467750', 'url': 'http://10.105.209.138:80/v1/catalog/products/P467750?preferedSku=2421089'}\n",
      "Page 3, Num Products: 60\n",
      "{'brandName': 'bareMinerals', 'currentSku': {'imageAltText': 'bareMinerals - COMPLEXION RESCUE™ Hydrating Foundation Stick with Mineral SPF 25', 'isAppExclusive': False, 'isBI': False, 'isBest': False, 'isFirstAccess': False, 'isLimitedEdition': False, 'isLimitedTimeOffer': False, 'isNatural': False, 'isNew': False, 'isOnlineOnly': False, 'isOrganic': False, 'isSephoraExclusive': False, 'listPrice': '$33.00', 'salePrice': '', 'skuId': '2176774', 'skuImages': {'image135': '/productimages/sku/s2176774-main-grid.jpg', 'image162': '/productimages/sku/s2176774-162.jpg', 'image250': '/productimages/sku/s2176774-main-hero.jpg', 'image42': '/productimages/sku/s2176774-main-thumb.jpg', 'image450': '/productimages/sku/s2176774-main-Lhero.jpg', 'image62': '/productimages/sku/s2176774-main-Lthumb.jpg', 'image97': '/productimages/sku/s2176774-main-Sgrid.jpg'}, 'skuType': 'Standard'}, 'displayName': 'COMPLEXION RESCUE™ Hydrating Foundation Stick with Mineral SPF 25', 'heroImage': '/productimages/sku/s2176774-main-grid.jpg', 'image135': '/productimages/sku/s2176774-main-grid.jpg', 'image250': '/productimages/sku/s2176774-main-hero.jpg', 'image450': '/productimages/sku/s2176774-main-Lhero.jpg', 'moreColors': 17, 'productId': 'P441829', 'productName': 'COMPLEXION RESCUE™ Hydrating Foundation Stick with Mineral SPF 25', 'rating': '4.3073', 'reviews': '1816', 'targetUrl': '/product/complexion-rescue-hydrating-foundation-stick-broad-spectrum-spf-25-P441829?skuId=2176774', 'url': 'http://10.105.209.137:80/v1/catalog/products/P441829?preferedSku=2176774'}\n",
      "Page 4, Num Products: 60\n",
      "{'brandName': 'Kate Somerville', 'currentSku': {'imageAltText': 'Kate Somerville - ExfoliKate® Glow Moisturizer', 'isAppExclusive': False, 'isBI': False, 'isBest': False, 'isFirstAccess': False, 'isLimitedEdition': False, 'isLimitedTimeOffer': False, 'isNatural': False, 'isNew': False, 'isOnlineOnly': False, 'isOrganic': False, 'isSephoraExclusive': False, 'listPrice': '$70.00', 'salePrice': '', 'skuId': '1976414', 'skuImages': {'image135': '/productimages/sku/s1976414-main-grid.jpg', 'image162': '/productimages/sku/s1976414-162.jpg', 'image250': '/productimages/sku/s1976414-main-hero.jpg', 'image42': '/productimages/sku/s1976414-main-thumb.jpg', 'image450': '/productimages/sku/s1976414-main-Lhero.jpg', 'image62': '/productimages/sku/s1976414-main-Lthumb.jpg', 'image97': '/productimages/sku/s1976414-main-Sgrid.jpg'}, 'skuType': 'Standard'}, 'displayName': 'ExfoliKate® Glow Moisturizer', 'heroImage': '/productimages/sku/s1976414-main-grid.jpg', 'image135': '/productimages/sku/s1976414-main-grid.jpg', 'image250': '/productimages/sku/s1976414-main-hero.jpg', 'image450': '/productimages/sku/s1976414-main-Lhero.jpg', 'productId': 'P421276', 'productName': 'ExfoliKate® Glow Moisturizer', 'rating': '4.5347', 'reviews': '1008', 'targetUrl': '/product/exfolikate-glow-moisturizer-P421276', 'url': 'http://10.105.209.133:80/v1/catalog/products/P421276?preferedSku=1976414'}\n",
      "Page 5, Num Products: 60\n",
      "{'brandName': 'Dr. Brandt Skincare', 'currentSku': {'imageAltText': 'Dr. Brandt Skincare - Hyaluronic Facial Cream', 'isAppExclusive': False, 'isBI': False, 'isBest': False, 'isFirstAccess': False, 'isLimitedEdition': False, 'isLimitedTimeOffer': False, 'isNatural': False, 'isNew': False, 'isOnlineOnly': False, 'isOrganic': False, 'isSephoraExclusive': False, 'listPrice': '$72.00', 'salePrice': '', 'skuId': '2167641', 'skuImages': {'image135': '/productimages/sku/s2167641-main-grid.jpg', 'image162': '/productimages/sku/s2167641-162.jpg', 'image250': '/productimages/sku/s2167641-main-hero.jpg', 'image42': '/productimages/sku/s2167641-main-thumb.jpg', 'image450': '/productimages/sku/s2167641-main-Lhero.jpg', 'image62': '/productimages/sku/s2167641-main-Lthumb.jpg', 'image97': '/productimages/sku/s2167641-main-Sgrid.jpg'}, 'skuType': 'Standard'}, 'displayName': 'Hyaluronic Facial Cream', 'heroImage': '/productimages/sku/s2167641-main-grid.jpg', 'image135': '/productimages/sku/s2167641-main-grid.jpg', 'image250': '/productimages/sku/s2167641-main-hero.jpg', 'image450': '/productimages/sku/s2167641-main-Lhero.jpg', 'productId': 'P442001', 'productName': 'Hyaluronic Facial Cream', 'rating': '3.2273', 'reviews': '22', 'targetUrl': '/product/hyaluronic-facial-cream-P442001', 'url': 'http://10.105.209.132:80/v1/catalog/products/P442001?preferedSku=2167641'}\n"
     ]
    }
   ],
   "source": [
    "for i in range(1, 15):\n",
    "    test_kwarg = construct_sephora_req(page_num=i)\n",
    "    res = get_api_json(test_kwarg)\n",
    "    print(f\"Page {i}, Num Products: {len(res['products'])}\")\n",
    "    print(res['products'][0])"
   ]
  },
  {
   "cell_type": "code",
   "execution_count": null,
   "metadata": {},
   "outputs": [],
   "source": []
  }
 ],
 "metadata": {
  "kernelspec": {
   "display_name": "Python 3",
   "language": "python",
   "name": "python3"
  },
  "language_info": {
   "codemirror_mode": {
    "name": "ipython",
    "version": 3
   },
   "file_extension": ".py",
   "mimetype": "text/x-python",
   "name": "python",
   "nbconvert_exporter": "python",
   "pygments_lexer": "ipython3",
   "version": "3.7.6"
  }
 },
 "nbformat": 4,
 "nbformat_minor": 4
}
